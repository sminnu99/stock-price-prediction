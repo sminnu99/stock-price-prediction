{
  "nbformat": 4,
  "nbformat_minor": 0,
  "metadata": {
    "colab": {
      "name": "GRIP-Task7_Stock Market-Prediction.ipynb",
      "provenance": [],
      "mount_file_id": "1h4Sdye8bTMpqpPhNIQhX6xK0h_bq4zO1",
      "authorship_tag": "ABX9TyOmb5yIFvfHfoEGdeOoKaJu",
      "include_colab_link": true
    },
    "kernelspec": {
      "name": "python3",
      "display_name": "Python 3"
    },
    "language_info": {
      "name": "python"
    }
  },
  "cells": [
    {
      "cell_type": "markdown",
      "metadata": {
        "id": "view-in-github",
        "colab_type": "text"
      },
      "source": [
        "<a href=\"https://colab.research.google.com/github/kowshik27/GRIP_Intern_Tasks/blob/main/GRIP_Task7_Stock_Market_Prediction.ipynb\" target=\"_parent\"><img src=\"https://colab.research.google.com/assets/colab-badge.svg\" alt=\"Open In Colab\"/></a>"
      ]
    },
    {
      "cell_type": "markdown",
      "metadata": {
        "id": "cXtCAmEMwtdw"
      },
      "source": [
        "# **GRIP Task-7: Stock Market Prediction using Numerical and Textual Analysis** <br>\n",
        "#**Objective:**\n",
        "## Create a hybrid model for stock price/performance prediction using numerical analysis of historical stock prices, and sentimental analysis of news headlines "
      ]
    },
    {
      "cell_type": "markdown",
      "metadata": {
        "id": "nZgPHW6EaAUf"
      },
      "source": [
        "#### We all know that the stock prices fluctuate a lot. Many of great investor do read newspaper and they invest by analyzing the news. <br> In this task, I created a model which predict the stock market price on that day if we provided the model the sentiment analysis of news headlines on that day."
      ]
    },
    {
      "cell_type": "markdown",
      "metadata": {
        "id": "xlH5cjXv2vkb"
      },
      "source": [
        "## Here we are going to analyze and predict the S&P BSE 500 stock using Times of India news headlines dataset provided in Harvard Dataverse.\n",
        "\n",
        "link for headlines dataset: https://bit.ly/36fFPI6<br>\n",
        "link for stock price(historical) dataset: https://yhoo.it/3uUottI\n"
      ]
    },
    {
      "cell_type": "markdown",
      "metadata": {
        "id": "ZJ3AXJd3xW_d"
      },
      "source": [
        "## Step-1: Importing Libraries"
      ]
    },
    {
      "cell_type": "code",
      "metadata": {
        "id": "ogboM2DCwdSL"
      },
      "source": [
        "import pandas as pd\n",
        "import numpy as np  \n",
        "import matplotlib.pyplot as plt  \n",
        "%matplotlib inline\n",
        "import seaborn as sns"
      ],
      "execution_count": null,
      "outputs": []
    },
    {
      "cell_type": "markdown",
      "metadata": {
        "id": "UuwnXDR1zo9p"
      },
      "source": [
        "## For Numerical analysis of BSE 500 stock historical data"
      ]
    },
    {
      "cell_type": "code",
      "metadata": {
        "id": "t3qzuPsZxmEU"
      },
      "source": [
        "stock_data = pd.read_csv('/content/drive/MyDrive/Colab Notebooks/BSE-500.BO.csv')"
      ],
      "execution_count": null,
      "outputs": []
    },
    {
      "cell_type": "code",
      "metadata": {
        "colab": {
          "base_uri": "https://localhost:8080/",
          "height": 402
        },
        "id": "jDCl_v1t46kd",
        "outputId": "683cec55-413f-4794-f968-7c7f7e6ea918"
      },
      "source": [
        "stock_data"
      ],
      "execution_count": null,
      "outputs": [
        {
          "output_type": "execute_result",
          "data": {
            "text/html": [
              "<div>\n",
              "<style scoped>\n",
              "    .dataframe tbody tr th:only-of-type {\n",
              "        vertical-align: middle;\n",
              "    }\n",
              "\n",
              "    .dataframe tbody tr th {\n",
              "        vertical-align: top;\n",
              "    }\n",
              "\n",
              "    .dataframe thead th {\n",
              "        text-align: right;\n",
              "    }\n",
              "</style>\n",
              "<table border=\"1\" class=\"dataframe\">\n",
              "  <thead>\n",
              "    <tr style=\"text-align: right;\">\n",
              "      <th></th>\n",
              "      <th>Date</th>\n",
              "      <th>Open</th>\n",
              "      <th>High</th>\n",
              "      <th>Low</th>\n",
              "      <th>Close</th>\n",
              "      <th>Adj Close</th>\n",
              "      <th>Volume</th>\n",
              "    </tr>\n",
              "  </thead>\n",
              "  <tbody>\n",
              "    <tr>\n",
              "      <th>0</th>\n",
              "      <td>2008-01-01</td>\n",
              "      <td>8620.099609</td>\n",
              "      <td>8685.320313</td>\n",
              "      <td>8601.240234</td>\n",
              "      <td>8660.629883</td>\n",
              "      <td>8660.629883</td>\n",
              "      <td>325195300.0</td>\n",
              "    </tr>\n",
              "    <tr>\n",
              "      <th>1</th>\n",
              "      <td>2008-01-02</td>\n",
              "      <td>8703.620117</td>\n",
              "      <td>8787.360352</td>\n",
              "      <td>8595.080078</td>\n",
              "      <td>8765.730469</td>\n",
              "      <td>8765.730469</td>\n",
              "      <td>427995000.0</td>\n",
              "    </tr>\n",
              "    <tr>\n",
              "      <th>2</th>\n",
              "      <td>2008-01-03</td>\n",
              "      <td>8733.559570</td>\n",
              "      <td>8817.089844</td>\n",
              "      <td>8719.849609</td>\n",
              "      <td>8746.040039</td>\n",
              "      <td>8746.040039</td>\n",
              "      <td>344790300.0</td>\n",
              "    </tr>\n",
              "    <tr>\n",
              "      <th>3</th>\n",
              "      <td>2008-01-04</td>\n",
              "      <td>8770.099609</td>\n",
              "      <td>8888.599609</td>\n",
              "      <td>8770.099609</td>\n",
              "      <td>8850.480469</td>\n",
              "      <td>8850.480469</td>\n",
              "      <td>381472400.0</td>\n",
              "    </tr>\n",
              "    <tr>\n",
              "      <th>4</th>\n",
              "      <td>2008-01-07</td>\n",
              "      <td>8817.230469</td>\n",
              "      <td>8910.370117</td>\n",
              "      <td>8764.839844</td>\n",
              "      <td>8882.280273</td>\n",
              "      <td>8882.280273</td>\n",
              "      <td>355712200.0</td>\n",
              "    </tr>\n",
              "    <tr>\n",
              "      <th>...</th>\n",
              "      <td>...</td>\n",
              "      <td>...</td>\n",
              "      <td>...</td>\n",
              "      <td>...</td>\n",
              "      <td>...</td>\n",
              "      <td>...</td>\n",
              "      <td>...</td>\n",
              "    </tr>\n",
              "    <tr>\n",
              "      <th>3292</th>\n",
              "      <td>2021-05-06</td>\n",
              "      <td>19866.359375</td>\n",
              "      <td>19922.769531</td>\n",
              "      <td>19758.269531</td>\n",
              "      <td>19903.849609</td>\n",
              "      <td>19903.849609</td>\n",
              "      <td>200.0</td>\n",
              "    </tr>\n",
              "    <tr>\n",
              "      <th>3293</th>\n",
              "      <td>2021-05-07</td>\n",
              "      <td>NaN</td>\n",
              "      <td>NaN</td>\n",
              "      <td>NaN</td>\n",
              "      <td>NaN</td>\n",
              "      <td>NaN</td>\n",
              "      <td>NaN</td>\n",
              "    </tr>\n",
              "    <tr>\n",
              "      <th>3294</th>\n",
              "      <td>2021-05-10</td>\n",
              "      <td>20126.169922</td>\n",
              "      <td>20198.650391</td>\n",
              "      <td>20102.199219</td>\n",
              "      <td>20173.759766</td>\n",
              "      <td>20173.759766</td>\n",
              "      <td>300.0</td>\n",
              "    </tr>\n",
              "    <tr>\n",
              "      <th>3295</th>\n",
              "      <td>2021-05-11</td>\n",
              "      <td>20022.199219</td>\n",
              "      <td>20183.779297</td>\n",
              "      <td>19971.990234</td>\n",
              "      <td>20132.550781</td>\n",
              "      <td>20132.550781</td>\n",
              "      <td>300.0</td>\n",
              "    </tr>\n",
              "    <tr>\n",
              "      <th>3296</th>\n",
              "      <td>2021-05-12</td>\n",
              "      <td>20170.609375</td>\n",
              "      <td>20170.609375</td>\n",
              "      <td>19902.470703</td>\n",
              "      <td>19967.980469</td>\n",
              "      <td>19967.980469</td>\n",
              "      <td>500.0</td>\n",
              "    </tr>\n",
              "  </tbody>\n",
              "</table>\n",
              "<p>3297 rows × 7 columns</p>\n",
              "</div>"
            ],
            "text/plain": [
              "            Date          Open  ...     Adj Close       Volume\n",
              "0     2008-01-01   8620.099609  ...   8660.629883  325195300.0\n",
              "1     2008-01-02   8703.620117  ...   8765.730469  427995000.0\n",
              "2     2008-01-03   8733.559570  ...   8746.040039  344790300.0\n",
              "3     2008-01-04   8770.099609  ...   8850.480469  381472400.0\n",
              "4     2008-01-07   8817.230469  ...   8882.280273  355712200.0\n",
              "...          ...           ...  ...           ...          ...\n",
              "3292  2021-05-06  19866.359375  ...  19903.849609        200.0\n",
              "3293  2021-05-07           NaN  ...           NaN          NaN\n",
              "3294  2021-05-10  20126.169922  ...  20173.759766        300.0\n",
              "3295  2021-05-11  20022.199219  ...  20132.550781        300.0\n",
              "3296  2021-05-12  20170.609375  ...  19967.980469        500.0\n",
              "\n",
              "[3297 rows x 7 columns]"
            ]
          },
          "metadata": {
            "tags": []
          },
          "execution_count": 162
        }
      ]
    },
    {
      "cell_type": "code",
      "metadata": {
        "colab": {
          "base_uri": "https://localhost:8080/"
        },
        "id": "qRslXbiQO_Em",
        "outputId": "bfc6ce02-1002-4e88-b263-49f3d9480b96"
      },
      "source": [
        "stock_data.info()"
      ],
      "execution_count": null,
      "outputs": [
        {
          "output_type": "stream",
          "text": [
            "<class 'pandas.core.frame.DataFrame'>\n",
            "RangeIndex: 3297 entries, 0 to 3296\n",
            "Data columns (total 7 columns):\n",
            " #   Column     Non-Null Count  Dtype  \n",
            "---  ------     --------------  -----  \n",
            " 0   Date       3297 non-null   object \n",
            " 1   Open       3254 non-null   float64\n",
            " 2   High       3254 non-null   float64\n",
            " 3   Low        3254 non-null   float64\n",
            " 4   Close      3254 non-null   float64\n",
            " 5   Adj Close  3254 non-null   float64\n",
            " 6   Volume     3254 non-null   float64\n",
            "dtypes: float64(6), object(1)\n",
            "memory usage: 180.4+ KB\n"
          ],
          "name": "stdout"
        }
      ]
    },
    {
      "cell_type": "code",
      "metadata": {
        "colab": {
          "base_uri": "https://localhost:8080/"
        },
        "id": "utPVTw2xPFVr",
        "outputId": "e8f04744-0afb-45a8-84c7-ee44cef11aa6"
      },
      "source": [
        "stock_data.isnull().sum()"
      ],
      "execution_count": null,
      "outputs": [
        {
          "output_type": "execute_result",
          "data": {
            "text/plain": [
              "Date          0\n",
              "Open         43\n",
              "High         43\n",
              "Low          43\n",
              "Close        43\n",
              "Adj Close    43\n",
              "Volume       43\n",
              "dtype: int64"
            ]
          },
          "metadata": {
            "tags": []
          },
          "execution_count": 164
        }
      ]
    },
    {
      "cell_type": "code",
      "metadata": {
        "colab": {
          "base_uri": "https://localhost:8080/",
          "height": 521
        },
        "id": "lGZQCfHFQDah",
        "outputId": "2f8c08bd-006d-4191-b18e-1317467ec2c4"
      },
      "source": [
        "# Plot to understand the trend of stock prices\n",
        "plt.figure(figsize=(24,8))\n",
        "sns.lineplot(x = stock_data.index, y= stock_data['Adj Close'],linewidth = 1.2,color = 'green')\n",
        "plt.title('Historical Data of BSE 500 from 2008\\n', fontdict= {'fontsize':16,'fontweight':'bold'})\n",
        "plt.show()"
      ],
      "execution_count": null,
      "outputs": [
        {
          "output_type": "display_data",
          "data": {
            "image/png": "[encoded data removed]",
            "text/plain": [
              "<Figure size 1728x576 with 1 Axes>"
            ]
          },
          "metadata": {
            "tags": []
          }
        }
      ]
    },
    {
      "cell_type": "markdown",
      "metadata": {
        "id": "V3KPBsnz8icU"
      },
      "source": [
        "## Data Cleaning "
      ]
    },
    {
      "cell_type": "code",
      "metadata": {
        "id": "DOJc8m0x28M4"
      },
      "source": [
        "# Changing date to python date object\n",
        "stock_data['Date'] = pd.to_datetime(stock_data['Date'], format = '%Y-%m-%d')"
      ],
      "execution_count": null,
      "outputs": []
    },
    {
      "cell_type": "code",
      "metadata": {
        "colab": {
          "base_uri": "https://localhost:8080/"
        },
        "id": "mOR7WF0kfNNs",
        "outputId": "c43029ab-4b8e-4bf8-ca1c-624cacef827f"
      },
      "source": [
        "stock_data.info()"
      ],
      "execution_count": null,
      "outputs": [
        {
          "output_type": "stream",
          "text": [
            "<class 'pandas.core.frame.DataFrame'>\n",
            "RangeIndex: 3297 entries, 0 to 3296\n",
            "Data columns (total 7 columns):\n",
            " #   Column     Non-Null Count  Dtype         \n",
            "---  ------     --------------  -----         \n",
            " 0   Date       3297 non-null   datetime64[ns]\n",
            " 1   Open       3254 non-null   float64       \n",
            " 2   High       3254 non-null   float64       \n",
            " 3   Low        3254 non-null   float64       \n",
            " 4   Close      3254 non-null   float64       \n",
            " 5   Adj Close  3254 non-null   float64       \n",
            " 6   Volume     3254 non-null   float64       \n",
            "dtypes: datetime64[ns](1), float64(6)\n",
            "memory usage: 180.4 KB\n"
          ],
          "name": "stdout"
        }
      ]
    },
    {
      "cell_type": "code",
      "metadata": {
        "colab": {
          "base_uri": "https://localhost:8080/",
          "height": 195
        },
        "id": "tbLQ5s8minh9",
        "outputId": "d2fd84f7-0a72-42cc-d95f-67aabd88926e"
      },
      "source": [
        "stock_data[stock_data['Adj Close'].isnull() == 1][0:5]"
      ],
      "execution_count": null,
      "outputs": [
        {
          "output_type": "execute_result",
          "data": {
            "text/html": [
              "<div>\n",
              "<style scoped>\n",
              "    .dataframe tbody tr th:only-of-type {\n",
              "        vertical-align: middle;\n",
              "    }\n",
              "\n",
              "    .dataframe tbody tr th {\n",
              "        vertical-align: top;\n",
              "    }\n",
              "\n",
              "    .dataframe thead th {\n",
              "        text-align: right;\n",
              "    }\n",
              "</style>\n",
              "<table border=\"1\" class=\"dataframe\">\n",
              "  <thead>\n",
              "    <tr style=\"text-align: right;\">\n",
              "      <th></th>\n",
              "      <th>Date</th>\n",
              "      <th>Open</th>\n",
              "      <th>High</th>\n",
              "      <th>Low</th>\n",
              "      <th>Close</th>\n",
              "      <th>Adj Close</th>\n",
              "      <th>Volume</th>\n",
              "    </tr>\n",
              "  </thead>\n",
              "  <tbody>\n",
              "    <tr>\n",
              "      <th>321</th>\n",
              "      <td>2009-04-30</td>\n",
              "      <td>NaN</td>\n",
              "      <td>NaN</td>\n",
              "      <td>NaN</td>\n",
              "      <td>NaN</td>\n",
              "      <td>NaN</td>\n",
              "      <td>NaN</td>\n",
              "    </tr>\n",
              "    <tr>\n",
              "      <th>484</th>\n",
              "      <td>2009-12-23</td>\n",
              "      <td>NaN</td>\n",
              "      <td>NaN</td>\n",
              "      <td>NaN</td>\n",
              "      <td>NaN</td>\n",
              "      <td>NaN</td>\n",
              "      <td>NaN</td>\n",
              "    </tr>\n",
              "    <tr>\n",
              "      <th>485</th>\n",
              "      <td>2009-12-24</td>\n",
              "      <td>NaN</td>\n",
              "      <td>NaN</td>\n",
              "      <td>NaN</td>\n",
              "      <td>NaN</td>\n",
              "      <td>NaN</td>\n",
              "      <td>NaN</td>\n",
              "    </tr>\n",
              "    <tr>\n",
              "      <th>486</th>\n",
              "      <td>2009-12-29</td>\n",
              "      <td>NaN</td>\n",
              "      <td>NaN</td>\n",
              "      <td>NaN</td>\n",
              "      <td>NaN</td>\n",
              "      <td>NaN</td>\n",
              "      <td>NaN</td>\n",
              "    </tr>\n",
              "    <tr>\n",
              "      <th>487</th>\n",
              "      <td>2009-12-30</td>\n",
              "      <td>NaN</td>\n",
              "      <td>NaN</td>\n",
              "      <td>NaN</td>\n",
              "      <td>NaN</td>\n",
              "      <td>NaN</td>\n",
              "      <td>NaN</td>\n",
              "    </tr>\n",
              "  </tbody>\n",
              "</table>\n",
              "</div>"
            ],
            "text/plain": [
              "          Date  Open  High  Low  Close  Adj Close  Volume\n",
              "321 2009-04-30   NaN   NaN  NaN    NaN        NaN     NaN\n",
              "484 2009-12-23   NaN   NaN  NaN    NaN        NaN     NaN\n",
              "485 2009-12-24   NaN   NaN  NaN    NaN        NaN     NaN\n",
              "486 2009-12-29   NaN   NaN  NaN    NaN        NaN     NaN\n",
              "487 2009-12-30   NaN   NaN  NaN    NaN        NaN     NaN"
            ]
          },
          "metadata": {
            "tags": []
          },
          "execution_count": 168
        }
      ]
    },
    {
      "cell_type": "code",
      "metadata": {
        "id": "lVSH9D4DqM_v"
      },
      "source": [
        "# Filling the null values with values in previous date\n",
        "stock_data =stock_data.fillna(method='bfill')"
      ],
      "execution_count": null,
      "outputs": []
    },
    {
      "cell_type": "code",
      "metadata": {
        "colab": {
          "base_uri": "https://localhost:8080/"
        },
        "id": "31s3SZIJk-Q8",
        "outputId": "41f1189c-462d-4c89-f357-73f8e7a1f39f"
      },
      "source": [
        "stock_data.info()"
      ],
      "execution_count": null,
      "outputs": [
        {
          "output_type": "stream",
          "text": [
            "<class 'pandas.core.frame.DataFrame'>\n",
            "RangeIndex: 3297 entries, 0 to 3296\n",
            "Data columns (total 7 columns):\n",
            " #   Column     Non-Null Count  Dtype         \n",
            "---  ------     --------------  -----         \n",
            " 0   Date       3297 non-null   datetime64[ns]\n",
            " 1   Open       3297 non-null   float64       \n",
            " 2   High       3297 non-null   float64       \n",
            " 3   Low        3297 non-null   float64       \n",
            " 4   Close      3297 non-null   float64       \n",
            " 5   Adj Close  3297 non-null   float64       \n",
            " 6   Volume     3297 non-null   float64       \n",
            "dtypes: datetime64[ns](1), float64(6)\n",
            "memory usage: 180.4 KB\n"
          ],
          "name": "stdout"
        }
      ]
    },
    {
      "cell_type": "markdown",
      "metadata": {
        "id": "CXESrINE9EXT"
      },
      "source": [
        "## creating two new features "
      ]
    },
    {
      "cell_type": "code",
      "metadata": {
        "colab": {
          "base_uri": "https://localhost:8080/"
        },
        "id": "OaaJzogrh7j_",
        "outputId": "20cdc87d-afb5-4d54-cc72-5e71a194b466"
      },
      "source": [
        "# Creating Fluctuations column by checking the volume increased from previous date or not\n",
        "stock_data['Fluctuations'] = np.where(stock_data['Volume'].shift(-1) > stock_data['Volume'],1,0)\n",
        "\n",
        "# Returns column which gives % change in price from previous date\n",
        "stock_data['Returns'] = stock_data['Adj Close'].pct_change()\n",
        "stock_data['Returns'][0] = 0"
      ],
      "execution_count": null,
      "outputs": [
        {
          "output_type": "stream",
          "text": [
            "/usr/local/lib/python3.7/dist-packages/ipykernel_launcher.py:4: SettingWithCopyWarning: \n",
            "A value is trying to be set on a copy of a slice from a DataFrame\n",
            "\n",
            "See the caveats in the documentation: https://pandas.pydata.org/pandas-docs/stable/user_guide/indexing.html#returning-a-view-versus-a-copy\n",
            "  after removing the cwd from sys.path.\n"
          ],
          "name": "stderr"
        }
      ]
    },
    {
      "cell_type": "code",
      "metadata": {
        "colab": {
          "base_uri": "https://localhost:8080/",
          "height": 369
        },
        "id": "3F9XomZs9qz0",
        "outputId": "eaedc79f-8579-4c73-9a40-b5dffe7ac8d2"
      },
      "source": [
        "plt.subplots(figsize=(17,5))\n",
        "plt.subplot(1,2,1)\n",
        "sns.lineplot(x = stock_data.index, y= stock_data['Returns'])\n",
        "plt.title('Returns %age in a day span\\n', fontdict= {'fontsize':16,'fontweight':'bold'})\n",
        "\n",
        "plt.subplot(1,2,2)\n",
        "sns.histplot(x= stock_data['Fluctuations'])\n",
        "plt.title(' Volume fluctuations for a day span\\n', fontdict= {'fontsize':16,'fontweight':'bold'})\n",
        "plt.show()"
      ],
      "execution_count": null,
      "outputs": [
        {
          "output_type": "display_data",
          "data": {
            "image/png": "[encoded data removed]",
            "text/plain": [
              "<Figure size 1224x360 with 2 Axes>"
            ]
          },
          "metadata": {
            "tags": [],
            "needs_background": "light"
          }
        }
      ]
    },
    {
      "cell_type": "code",
      "metadata": {
        "colab": {
          "base_uri": "https://localhost:8080/",
          "height": 402
        },
        "id": "2vrq5TIwr2rk",
        "outputId": "75ba3b31-2165-4f3d-f5db-70196deeb20b"
      },
      "source": [
        "stock_data = round(stock_data,4)\n",
        "stock_data"
      ],
      "execution_count": null,
      "outputs": [
        {
          "output_type": "execute_result",
          "data": {
            "text/html": [
              "<div>\n",
              "<style scoped>\n",
              "    .dataframe tbody tr th:only-of-type {\n",
              "        vertical-align: middle;\n",
              "    }\n",
              "\n",
              "    .dataframe tbody tr th {\n",
              "        vertical-align: top;\n",
              "    }\n",
              "\n",
              "    .dataframe thead th {\n",
              "        text-align: right;\n",
              "    }\n",
              "</style>\n",
              "<table border=\"1\" class=\"dataframe\">\n",
              "  <thead>\n",
              "    <tr style=\"text-align: right;\">\n",
              "      <th></th>\n",
              "      <th>Date</th>\n",
              "      <th>Open</th>\n",
              "      <th>High</th>\n",
              "      <th>Low</th>\n",
              "      <th>Close</th>\n",
              "      <th>Adj Close</th>\n",
              "      <th>Volume</th>\n",
              "      <th>Fluctuations</th>\n",
              "      <th>Returns</th>\n",
              "    </tr>\n",
              "  </thead>\n",
              "  <tbody>\n",
              "    <tr>\n",
              "      <th>0</th>\n",
              "      <td>2008-01-01</td>\n",
              "      <td>8620.0996</td>\n",
              "      <td>8685.3203</td>\n",
              "      <td>8601.2402</td>\n",
              "      <td>8660.6299</td>\n",
              "      <td>8660.6299</td>\n",
              "      <td>325195300.0</td>\n",
              "      <td>1</td>\n",
              "      <td>0.0000</td>\n",
              "    </tr>\n",
              "    <tr>\n",
              "      <th>1</th>\n",
              "      <td>2008-01-02</td>\n",
              "      <td>8703.6201</td>\n",
              "      <td>8787.3604</td>\n",
              "      <td>8595.0801</td>\n",
              "      <td>8765.7305</td>\n",
              "      <td>8765.7305</td>\n",
              "      <td>427995000.0</td>\n",
              "      <td>0</td>\n",
              "      <td>0.0121</td>\n",
              "    </tr>\n",
              "    <tr>\n",
              "      <th>2</th>\n",
              "      <td>2008-01-03</td>\n",
              "      <td>8733.5596</td>\n",
              "      <td>8817.0898</td>\n",
              "      <td>8719.8496</td>\n",
              "      <td>8746.0400</td>\n",
              "      <td>8746.0400</td>\n",
              "      <td>344790300.0</td>\n",
              "      <td>1</td>\n",
              "      <td>-0.0022</td>\n",
              "    </tr>\n",
              "    <tr>\n",
              "      <th>3</th>\n",
              "      <td>2008-01-04</td>\n",
              "      <td>8770.0996</td>\n",
              "      <td>8888.5996</td>\n",
              "      <td>8770.0996</td>\n",
              "      <td>8850.4805</td>\n",
              "      <td>8850.4805</td>\n",
              "      <td>381472400.0</td>\n",
              "      <td>0</td>\n",
              "      <td>0.0119</td>\n",
              "    </tr>\n",
              "    <tr>\n",
              "      <th>4</th>\n",
              "      <td>2008-01-07</td>\n",
              "      <td>8817.2305</td>\n",
              "      <td>8910.3701</td>\n",
              "      <td>8764.8398</td>\n",
              "      <td>8882.2803</td>\n",
              "      <td>8882.2803</td>\n",
              "      <td>355712200.0</td>\n",
              "      <td>1</td>\n",
              "      <td>0.0036</td>\n",
              "    </tr>\n",
              "    <tr>\n",
              "      <th>...</th>\n",
              "      <td>...</td>\n",
              "      <td>...</td>\n",
              "      <td>...</td>\n",
              "      <td>...</td>\n",
              "      <td>...</td>\n",
              "      <td>...</td>\n",
              "      <td>...</td>\n",
              "      <td>...</td>\n",
              "      <td>...</td>\n",
              "    </tr>\n",
              "    <tr>\n",
              "      <th>3292</th>\n",
              "      <td>2021-05-06</td>\n",
              "      <td>19866.3594</td>\n",
              "      <td>19922.7695</td>\n",
              "      <td>19758.2695</td>\n",
              "      <td>19903.8496</td>\n",
              "      <td>19903.8496</td>\n",
              "      <td>200.0</td>\n",
              "      <td>1</td>\n",
              "      <td>0.0070</td>\n",
              "    </tr>\n",
              "    <tr>\n",
              "      <th>3293</th>\n",
              "      <td>2021-05-07</td>\n",
              "      <td>20126.1699</td>\n",
              "      <td>20198.6504</td>\n",
              "      <td>20102.1992</td>\n",
              "      <td>20173.7598</td>\n",
              "      <td>20173.7598</td>\n",
              "      <td>300.0</td>\n",
              "      <td>0</td>\n",
              "      <td>0.0136</td>\n",
              "    </tr>\n",
              "    <tr>\n",
              "      <th>3294</th>\n",
              "      <td>2021-05-10</td>\n",
              "      <td>20126.1699</td>\n",
              "      <td>20198.6504</td>\n",
              "      <td>20102.1992</td>\n",
              "      <td>20173.7598</td>\n",
              "      <td>20173.7598</td>\n",
              "      <td>300.0</td>\n",
              "      <td>0</td>\n",
              "      <td>0.0000</td>\n",
              "    </tr>\n",
              "    <tr>\n",
              "      <th>3295</th>\n",
              "      <td>2021-05-11</td>\n",
              "      <td>20022.1992</td>\n",
              "      <td>20183.7793</td>\n",
              "      <td>19971.9902</td>\n",
              "      <td>20132.5508</td>\n",
              "      <td>20132.5508</td>\n",
              "      <td>300.0</td>\n",
              "      <td>1</td>\n",
              "      <td>-0.0020</td>\n",
              "    </tr>\n",
              "    <tr>\n",
              "      <th>3296</th>\n",
              "      <td>2021-05-12</td>\n",
              "      <td>20170.6094</td>\n",
              "      <td>20170.6094</td>\n",
              "      <td>19902.4707</td>\n",
              "      <td>19967.9805</td>\n",
              "      <td>19967.9805</td>\n",
              "      <td>500.0</td>\n",
              "      <td>0</td>\n",
              "      <td>-0.0082</td>\n",
              "    </tr>\n",
              "  </tbody>\n",
              "</table>\n",
              "<p>3297 rows × 9 columns</p>\n",
              "</div>"
            ],
            "text/plain": [
              "           Date        Open        High  ...       Volume  Fluctuations  Returns\n",
              "0    2008-01-01   8620.0996   8685.3203  ...  325195300.0             1   0.0000\n",
              "1    2008-01-02   8703.6201   8787.3604  ...  427995000.0             0   0.0121\n",
              "2    2008-01-03   8733.5596   8817.0898  ...  344790300.0             1  -0.0022\n",
              "3    2008-01-04   8770.0996   8888.5996  ...  381472400.0             0   0.0119\n",
              "4    2008-01-07   8817.2305   8910.3701  ...  355712200.0             1   0.0036\n",
              "...         ...         ...         ...  ...          ...           ...      ...\n",
              "3292 2021-05-06  19866.3594  19922.7695  ...        200.0             1   0.0070\n",
              "3293 2021-05-07  20126.1699  20198.6504  ...        300.0             0   0.0136\n",
              "3294 2021-05-10  20126.1699  20198.6504  ...        300.0             0   0.0000\n",
              "3295 2021-05-11  20022.1992  20183.7793  ...        300.0             1  -0.0020\n",
              "3296 2021-05-12  20170.6094  20170.6094  ...        500.0             0  -0.0082\n",
              "\n",
              "[3297 rows x 9 columns]"
            ]
          },
          "metadata": {
            "tags": []
          },
          "execution_count": 194
        }
      ]
    },
    {
      "cell_type": "code",
      "metadata": {
        "colab": {
          "base_uri": "https://localhost:8080/"
        },
        "id": "PVxYas4QsqLA",
        "outputId": "0af65ca0-3e78-4a78-ccba-e13563052dbb"
      },
      "source": [
        "# Verifying if there are any null values\n",
        "stock_data.isnull().sum()"
      ],
      "execution_count": null,
      "outputs": [
        {
          "output_type": "execute_result",
          "data": {
            "text/plain": [
              "Date            0\n",
              "Open            0\n",
              "High            0\n",
              "Low             0\n",
              "Close           0\n",
              "Adj Close       0\n",
              "Volume          0\n",
              "Fluctuations    0\n",
              "Returns         0\n",
              "dtype: int64"
            ]
          },
          "metadata": {
            "tags": []
          },
          "execution_count": 196
        }
      ]
    },
    {
      "cell_type": "markdown",
      "metadata": {
        "id": "9xNoMRwdzxhm"
      },
      "source": [
        "## For Categorical Analysis of News Headlines"
      ]
    },
    {
      "cell_type": "code",
      "metadata": {
        "id": "-OgEfoiKz1Bu"
      },
      "source": [
        "path = '/content/drive/MyDrive/Colab Notebooks/india-news-headlines.csv'\n",
        "news_data = pd.read_csv(path)"
      ],
      "execution_count": null,
      "outputs": []
    },
    {
      "cell_type": "code",
      "metadata": {
        "colab": {
          "base_uri": "https://localhost:8080/",
          "height": 402
        },
        "id": "uhD5Nnl3248F",
        "outputId": "a0ac3ac3-0387-4e48-f513-d34685e85c0a"
      },
      "source": [
        "news_data.head(-1)"
      ],
      "execution_count": null,
      "outputs": [
        {
          "output_type": "execute_result",
          "data": {
            "text/html": [
              "<div>\n",
              "<style scoped>\n",
              "    .dataframe tbody tr th:only-of-type {\n",
              "        vertical-align: middle;\n",
              "    }\n",
              "\n",
              "    .dataframe tbody tr th {\n",
              "        vertical-align: top;\n",
              "    }\n",
              "\n",
              "    .dataframe thead th {\n",
              "        text-align: right;\n",
              "    }\n",
              "</style>\n",
              "<table border=\"1\" class=\"dataframe\">\n",
              "  <thead>\n",
              "    <tr style=\"text-align: right;\">\n",
              "      <th></th>\n",
              "      <th>publish_date</th>\n",
              "      <th>headline_category</th>\n",
              "      <th>headline_text</th>\n",
              "    </tr>\n",
              "  </thead>\n",
              "  <tbody>\n",
              "    <tr>\n",
              "      <th>0</th>\n",
              "      <td>20010102</td>\n",
              "      <td>unknown</td>\n",
              "      <td>Status quo will not be disturbed at Ayodhya; s...</td>\n",
              "    </tr>\n",
              "    <tr>\n",
              "      <th>1</th>\n",
              "      <td>20010102</td>\n",
              "      <td>unknown</td>\n",
              "      <td>Fissures in Hurriyat over Pak visit</td>\n",
              "    </tr>\n",
              "    <tr>\n",
              "      <th>2</th>\n",
              "      <td>20010102</td>\n",
              "      <td>unknown</td>\n",
              "      <td>America's unwanted heading for India?</td>\n",
              "    </tr>\n",
              "    <tr>\n",
              "      <th>3</th>\n",
              "      <td>20010102</td>\n",
              "      <td>unknown</td>\n",
              "      <td>For bigwigs; it is destination Goa</td>\n",
              "    </tr>\n",
              "    <tr>\n",
              "      <th>4</th>\n",
              "      <td>20010102</td>\n",
              "      <td>unknown</td>\n",
              "      <td>Extra buses to clear tourist traffic</td>\n",
              "    </tr>\n",
              "    <tr>\n",
              "      <th>...</th>\n",
              "      <td>...</td>\n",
              "      <td>...</td>\n",
              "      <td>...</td>\n",
              "    </tr>\n",
              "    <tr>\n",
              "      <th>3424061</th>\n",
              "      <td>20201231</td>\n",
              "      <td>city.bengaluru</td>\n",
              "      <td>Peddler nabbed; 10kg ganja seized in Anantapur...</td>\n",
              "    </tr>\n",
              "    <tr>\n",
              "      <th>3424062</th>\n",
              "      <td>20201231</td>\n",
              "      <td>city.jodhpur</td>\n",
              "      <td>Covid-19: Despite dip in cases; Rajasthan amon...</td>\n",
              "    </tr>\n",
              "    <tr>\n",
              "      <th>3424063</th>\n",
              "      <td>20201231</td>\n",
              "      <td>city.udaipur</td>\n",
              "      <td>Covid-19: Despite dip in cases; Rajasthan amon...</td>\n",
              "    </tr>\n",
              "    <tr>\n",
              "      <th>3424064</th>\n",
              "      <td>20201231</td>\n",
              "      <td>city.ajmer</td>\n",
              "      <td>Covid-19: Despite dip in cases; Rajasthan amon...</td>\n",
              "    </tr>\n",
              "    <tr>\n",
              "      <th>3424065</th>\n",
              "      <td>20201231</td>\n",
              "      <td>removed</td>\n",
              "      <td>Govt extends deadline for use of FASTag till F...</td>\n",
              "    </tr>\n",
              "  </tbody>\n",
              "</table>\n",
              "<p>3424066 rows × 3 columns</p>\n",
              "</div>"
            ],
            "text/plain": [
              "         publish_date  ...                                      headline_text\n",
              "0            20010102  ...  Status quo will not be disturbed at Ayodhya; s...\n",
              "1            20010102  ...                Fissures in Hurriyat over Pak visit\n",
              "2            20010102  ...              America's unwanted heading for India?\n",
              "3            20010102  ...                 For bigwigs; it is destination Goa\n",
              "4            20010102  ...               Extra buses to clear tourist traffic\n",
              "...               ...  ...                                                ...\n",
              "3424061      20201231  ...  Peddler nabbed; 10kg ganja seized in Anantapur...\n",
              "3424062      20201231  ...  Covid-19: Despite dip in cases; Rajasthan amon...\n",
              "3424063      20201231  ...  Covid-19: Despite dip in cases; Rajasthan amon...\n",
              "3424064      20201231  ...  Covid-19: Despite dip in cases; Rajasthan amon...\n",
              "3424065      20201231  ...  Govt extends deadline for use of FASTag till F...\n",
              "\n",
              "[3424066 rows x 3 columns]"
            ]
          },
          "metadata": {
            "tags": []
          },
          "execution_count": 174
        }
      ]
    },
    {
      "cell_type": "code",
      "metadata": {
        "colab": {
          "base_uri": "https://localhost:8080/",
          "height": 402
        },
        "id": "7pQOWOUbT0Wc",
        "outputId": "93e0a82e-ec6e-4b92-dd91-8a91a64ced45"
      },
      "source": [
        "# dropping category column\n",
        "news_data= news_data.drop('headline_category',axis =1)\n",
        "\n",
        "# renamining date column\n",
        "news_data = news_data.rename(columns = {'publish_date':'Date'})\n",
        "\n",
        "# Changing date to python date format\n",
        "from datetime import datetime\n",
        "news_data['Date'] = pd.to_datetime(news_data['Date'], format = '%Y%m%d')\n",
        "news_data"
      ],
      "execution_count": null,
      "outputs": [
        {
          "output_type": "execute_result",
          "data": {
            "text/html": [
              "<div>\n",
              "<style scoped>\n",
              "    .dataframe tbody tr th:only-of-type {\n",
              "        vertical-align: middle;\n",
              "    }\n",
              "\n",
              "    .dataframe tbody tr th {\n",
              "        vertical-align: top;\n",
              "    }\n",
              "\n",
              "    .dataframe thead th {\n",
              "        text-align: right;\n",
              "    }\n",
              "</style>\n",
              "<table border=\"1\" class=\"dataframe\">\n",
              "  <thead>\n",
              "    <tr style=\"text-align: right;\">\n",
              "      <th></th>\n",
              "      <th>Date</th>\n",
              "      <th>headline_text</th>\n",
              "    </tr>\n",
              "  </thead>\n",
              "  <tbody>\n",
              "    <tr>\n",
              "      <th>0</th>\n",
              "      <td>2001-01-02</td>\n",
              "      <td>Status quo will not be disturbed at Ayodhya; s...</td>\n",
              "    </tr>\n",
              "    <tr>\n",
              "      <th>1</th>\n",
              "      <td>2001-01-02</td>\n",
              "      <td>Fissures in Hurriyat over Pak visit</td>\n",
              "    </tr>\n",
              "    <tr>\n",
              "      <th>2</th>\n",
              "      <td>2001-01-02</td>\n",
              "      <td>America's unwanted heading for India?</td>\n",
              "    </tr>\n",
              "    <tr>\n",
              "      <th>3</th>\n",
              "      <td>2001-01-02</td>\n",
              "      <td>For bigwigs; it is destination Goa</td>\n",
              "    </tr>\n",
              "    <tr>\n",
              "      <th>4</th>\n",
              "      <td>2001-01-02</td>\n",
              "      <td>Extra buses to clear tourist traffic</td>\n",
              "    </tr>\n",
              "    <tr>\n",
              "      <th>...</th>\n",
              "      <td>...</td>\n",
              "      <td>...</td>\n",
              "    </tr>\n",
              "    <tr>\n",
              "      <th>3424062</th>\n",
              "      <td>2020-12-31</td>\n",
              "      <td>Covid-19: Despite dip in cases; Rajasthan amon...</td>\n",
              "    </tr>\n",
              "    <tr>\n",
              "      <th>3424063</th>\n",
              "      <td>2020-12-31</td>\n",
              "      <td>Covid-19: Despite dip in cases; Rajasthan amon...</td>\n",
              "    </tr>\n",
              "    <tr>\n",
              "      <th>3424064</th>\n",
              "      <td>2020-12-31</td>\n",
              "      <td>Covid-19: Despite dip in cases; Rajasthan amon...</td>\n",
              "    </tr>\n",
              "    <tr>\n",
              "      <th>3424065</th>\n",
              "      <td>2020-12-31</td>\n",
              "      <td>Govt extends deadline for use of FASTag till F...</td>\n",
              "    </tr>\n",
              "    <tr>\n",
              "      <th>3424066</th>\n",
              "      <td>2020-12-31</td>\n",
              "      <td>Celebs plan to party safely and responsibly on...</td>\n",
              "    </tr>\n",
              "  </tbody>\n",
              "</table>\n",
              "<p>3424067 rows × 2 columns</p>\n",
              "</div>"
            ],
            "text/plain": [
              "              Date                                      headline_text\n",
              "0       2001-01-02  Status quo will not be disturbed at Ayodhya; s...\n",
              "1       2001-01-02                Fissures in Hurriyat over Pak visit\n",
              "2       2001-01-02              America's unwanted heading for India?\n",
              "3       2001-01-02                 For bigwigs; it is destination Goa\n",
              "4       2001-01-02               Extra buses to clear tourist traffic\n",
              "...            ...                                                ...\n",
              "3424062 2020-12-31  Covid-19: Despite dip in cases; Rajasthan amon...\n",
              "3424063 2020-12-31  Covid-19: Despite dip in cases; Rajasthan amon...\n",
              "3424064 2020-12-31  Covid-19: Despite dip in cases; Rajasthan amon...\n",
              "3424065 2020-12-31  Govt extends deadline for use of FASTag till F...\n",
              "3424066 2020-12-31  Celebs plan to party safely and responsibly on...\n",
              "\n",
              "[3424067 rows x 2 columns]"
            ]
          },
          "metadata": {
            "tags": []
          },
          "execution_count": 175
        }
      ]
    },
    {
      "cell_type": "code",
      "metadata": {
        "colab": {
          "base_uri": "https://localhost:8080/"
        },
        "id": "bdIFh3cjpy6a",
        "outputId": "56fc51b2-365b-483c-f097-1fabb141e651"
      },
      "source": [
        "news_data['headline_text'].value_counts()"
      ],
      "execution_count": null,
      "outputs": [
        {
          "output_type": "execute_result",
          "data": {
            "text/plain": [
              "Straight Answers                                              6723\n",
              "Cartoons                                                      1536\n",
              "Straight answers                                              1500\n",
              "Photogallery                                                  1353\n",
              "Your say                                                      1012\n",
              "                                                              ... \n",
              "Truck set ablaze by blockade supporters in Manipur               1\n",
              "Saqib Saleem shows off his swag with great suave and charm       1\n",
              "Committed to theater                                             1\n",
              "No anti-incumbency wave; we're way ahead: Tanwar                 1\n",
              "Focus on biodiversity for next generation                        1\n",
              "Name: headline_text, Length: 3168800, dtype: int64"
            ]
          },
          "metadata": {
            "tags": []
          },
          "execution_count": 176
        }
      ]
    },
    {
      "cell_type": "code",
      "metadata": {
        "colab": {
          "base_uri": "https://localhost:8080/"
        },
        "id": "KADMAWIkqQUc",
        "outputId": "c9c72aee-a824-4031-9de9-92529e2b6fed"
      },
      "source": [
        "news_data.duplicated().sum()"
      ],
      "execution_count": null,
      "outputs": [
        {
          "output_type": "execute_result",
          "data": {
            "text/plain": [
              "154493"
            ]
          },
          "metadata": {
            "tags": []
          },
          "execution_count": 177
        }
      ]
    },
    {
      "cell_type": "code",
      "metadata": {
        "colab": {
          "base_uri": "https://localhost:8080/"
        },
        "id": "baTtJNhfgBrt",
        "outputId": "e8795800-9caf-417b-d441-bc6f25489671"
      },
      "source": [
        "#dropping the duplicates only keeping the last value of each duplicates\n",
        "news_data.drop_duplicates(keep='last', inplace=True, ignore_index=True)\n",
        "\n",
        "news_data.duplicated().sum()"
      ],
      "execution_count": null,
      "outputs": [
        {
          "output_type": "execute_result",
          "data": {
            "text/plain": [
              "0"
            ]
          },
          "metadata": {
            "tags": []
          },
          "execution_count": 178
        }
      ]
    },
    {
      "cell_type": "code",
      "metadata": {
        "id": "H9FZ1S5U5JHm"
      },
      "source": [
        "#getting a list of unique dates in Date column\n",
        "lst = news_data['Date'].value_counts().index.tolist()\n",
        "\n",
        "#concatenating all the headline_text column values of same date as a single row\n",
        "new = []\n",
        "for x in lst:\n",
        "  df = news_data.loc[news_data['Date'] == x]\n",
        "  headlinetext = ''\n",
        "  publishdate = str(x)\n",
        "  headlinetext = df['headline_text'].iloc[0]\n",
        "  for i in range(1 , len(df)):\n",
        "    headlinetext = headlinetext + '. '+ df['headline_text'].iloc[i]  \n",
        "  new.append(headlinetext)\n"
      ],
      "execution_count": null,
      "outputs": []
    },
    {
      "cell_type": "code",
      "metadata": {
        "colab": {
          "base_uri": "https://localhost:8080/",
          "height": 402
        },
        "id": "h-cjyEwj6ZD5",
        "outputId": "8906e152-147f-41fe-eed0-08ccf797b266"
      },
      "source": [
        "newsdf = pd.DataFrame({'Date': lst, 'headline_text' : new})\n",
        "newsdf = newsdf.sort_values(by='Date',ignore_index=True)\n",
        "newsdf"
      ],
      "execution_count": null,
      "outputs": [
        {
          "output_type": "execute_result",
          "data": {
            "text/html": [
              "<div>\n",
              "<style scoped>\n",
              "    .dataframe tbody tr th:only-of-type {\n",
              "        vertical-align: middle;\n",
              "    }\n",
              "\n",
              "    .dataframe tbody tr th {\n",
              "        vertical-align: top;\n",
              "    }\n",
              "\n",
              "    .dataframe thead th {\n",
              "        text-align: right;\n",
              "    }\n",
              "</style>\n",
              "<table border=\"1\" class=\"dataframe\">\n",
              "  <thead>\n",
              "    <tr style=\"text-align: right;\">\n",
              "      <th></th>\n",
              "      <th>Date</th>\n",
              "      <th>headline_text</th>\n",
              "    </tr>\n",
              "  </thead>\n",
              "  <tbody>\n",
              "    <tr>\n",
              "      <th>0</th>\n",
              "      <td>2001-01-02</td>\n",
              "      <td>Status quo will not be disturbed at Ayodhya; s...</td>\n",
              "    </tr>\n",
              "    <tr>\n",
              "      <th>1</th>\n",
              "      <td>2001-01-03</td>\n",
              "      <td>Powerless north India gropes in the dark. Thin...</td>\n",
              "    </tr>\n",
              "    <tr>\n",
              "      <th>2</th>\n",
              "      <td>2001-01-04</td>\n",
              "      <td>Claire Danes inks to star in 'It's About Love'...</td>\n",
              "    </tr>\n",
              "    <tr>\n",
              "      <th>3</th>\n",
              "      <td>2001-01-05</td>\n",
              "      <td>Faleiro vows to fight common cadre proposal. T...</td>\n",
              "    </tr>\n",
              "    <tr>\n",
              "      <th>4</th>\n",
              "      <td>2001-01-06</td>\n",
              "      <td>Light combat craft takes India into club class...</td>\n",
              "    </tr>\n",
              "    <tr>\n",
              "      <th>...</th>\n",
              "      <td>...</td>\n",
              "      <td>...</td>\n",
              "    </tr>\n",
              "    <tr>\n",
              "      <th>7257</th>\n",
              "      <td>2020-12-27</td>\n",
              "      <td>#BigInterview! Dhritiman Chatterjee: Nobody da...</td>\n",
              "    </tr>\n",
              "    <tr>\n",
              "      <th>7258</th>\n",
              "      <td>2020-12-28</td>\n",
              "      <td>Horoscope Today; 28 December 2020: Check astro...</td>\n",
              "    </tr>\n",
              "    <tr>\n",
              "      <th>7259</th>\n",
              "      <td>2020-12-29</td>\n",
              "      <td>Man recovers charred remains of 'thief' from h...</td>\n",
              "    </tr>\n",
              "    <tr>\n",
              "      <th>7260</th>\n",
              "      <td>2020-12-30</td>\n",
              "      <td>Numerology Readings 30 December 2020: Predicti...</td>\n",
              "    </tr>\n",
              "    <tr>\n",
              "      <th>7261</th>\n",
              "      <td>2020-12-31</td>\n",
              "      <td>Horoscope Today; 31 December 2020: Check astro...</td>\n",
              "    </tr>\n",
              "  </tbody>\n",
              "</table>\n",
              "<p>7262 rows × 2 columns</p>\n",
              "</div>"
            ],
            "text/plain": [
              "           Date                                      headline_text\n",
              "0    2001-01-02  Status quo will not be disturbed at Ayodhya; s...\n",
              "1    2001-01-03  Powerless north India gropes in the dark. Thin...\n",
              "2    2001-01-04  Claire Danes inks to star in 'It's About Love'...\n",
              "3    2001-01-05  Faleiro vows to fight common cadre proposal. T...\n",
              "4    2001-01-06  Light combat craft takes India into club class...\n",
              "...         ...                                                ...\n",
              "7257 2020-12-27  #BigInterview! Dhritiman Chatterjee: Nobody da...\n",
              "7258 2020-12-28  Horoscope Today; 28 December 2020: Check astro...\n",
              "7259 2020-12-29  Man recovers charred remains of 'thief' from h...\n",
              "7260 2020-12-30  Numerology Readings 30 December 2020: Predicti...\n",
              "7261 2020-12-31  Horoscope Today; 31 December 2020: Check astro...\n",
              "\n",
              "[7262 rows x 2 columns]"
            ]
          },
          "metadata": {
            "tags": []
          },
          "execution_count": 180
        }
      ]
    },
    {
      "cell_type": "code",
      "metadata": {
        "id": "YieLNzpR0LVZ"
      },
      "source": [
        "from textblob import TextBlob\n",
        "from nltk.sentiment.vader import SentimentIntensityAnalyzer"
      ],
      "execution_count": null,
      "outputs": []
    },
    {
      "cell_type": "markdown",
      "metadata": {
        "id": "W7KNM9XQ8isb"
      },
      "source": [
        "## <br> Subjectivity -> distinguishes factual and personal feeling, expression,opinion or statement. Ranges from 0(Objective,factual) to 1(Totally subjective)\n",
        "\n",
        "## Polarity --> tells the how the text sounds as positive, negative, compound or neutral"
      ]
    },
    {
      "cell_type": "code",
      "metadata": {
        "id": "Bc2W1fwO8UWq"
      },
      "source": [
        "# Creating subjectivity for headlines\n",
        "\n",
        "# Function for polarity & subjectivity\n",
        "subjectivity = []\n",
        "for idx, row in newsdf.iterrows():\n",
        "  subjectivity.append(TextBlob(row['headline_text']).sentiment[1])"
      ],
      "execution_count": null,
      "outputs": []
    },
    {
      "cell_type": "code",
      "metadata": {
        "id": "kxKCXzobe7uj"
      },
      "source": [
        "newsdf['subjectivity'] = subjectivity"
      ],
      "execution_count": null,
      "outputs": []
    },
    {
      "cell_type": "code",
      "metadata": {
        "id": "g72bOzRT_kIc"
      },
      "source": [
        "cmpnd, pos, neg, neu = [],[],[],[]\n",
        "sia = SentimentIntensityAnalyzer()\n",
        "\n",
        "for hdln in newsdf['headline_text']:\n",
        "  sscore = sia.polarity_scores(hdln)\n",
        "  for k in sorted(sscore):\n",
        "    if k == 'compound':\n",
        "      cmpnd.append(sscore[k])\n",
        "    elif k == 'neg':\n",
        "      neg.append(sscore[k])\n",
        "    elif k == 'neu':\n",
        "      neu.append(sscore[k])\n",
        "    else:\n",
        "      pos.append(sscore[k])"
      ],
      "execution_count": null,
      "outputs": []
    },
    {
      "cell_type": "code",
      "metadata": {
        "id": "NRDrlk_iInLM"
      },
      "source": [
        "newsdf['compound'] = cmpnd\n",
        "newsdf['positive'] = pos\n",
        "newsdf['negative'] = neg\n",
        "newsdf['neutral'] = neu"
      ],
      "execution_count": null,
      "outputs": []
    },
    {
      "cell_type": "code",
      "metadata": {
        "colab": {
          "base_uri": "https://localhost:8080/",
          "height": 402
        },
        "id": "BdA-dtyXKiHC",
        "outputId": "641cc08f-b419-452b-fde2-9e3fc2969e26"
      },
      "source": [
        "newsdf"
      ],
      "execution_count": null,
      "outputs": [
        {
          "output_type": "execute_result",
          "data": {
            "text/html": [
              "<div>\n",
              "<style scoped>\n",
              "    .dataframe tbody tr th:only-of-type {\n",
              "        vertical-align: middle;\n",
              "    }\n",
              "\n",
              "    .dataframe tbody tr th {\n",
              "        vertical-align: top;\n",
              "    }\n",
              "\n",
              "    .dataframe thead th {\n",
              "        text-align: right;\n",
              "    }\n",
              "</style>\n",
              "<table border=\"1\" class=\"dataframe\">\n",
              "  <thead>\n",
              "    <tr style=\"text-align: right;\">\n",
              "      <th></th>\n",
              "      <th>Date</th>\n",
              "      <th>subjectivity</th>\n",
              "      <th>compound</th>\n",
              "      <th>positive</th>\n",
              "      <th>negative</th>\n",
              "      <th>neutral</th>\n",
              "    </tr>\n",
              "  </thead>\n",
              "  <tbody>\n",
              "    <tr>\n",
              "      <th>0</th>\n",
              "      <td>2001-01-02</td>\n",
              "      <td>0.293056</td>\n",
              "      <td>-0.9815</td>\n",
              "      <td>0.075</td>\n",
              "      <td>0.144</td>\n",
              "      <td>0.781</td>\n",
              "    </tr>\n",
              "    <tr>\n",
              "      <th>1</th>\n",
              "      <td>2001-01-03</td>\n",
              "      <td>0.407692</td>\n",
              "      <td>-0.2640</td>\n",
              "      <td>0.111</td>\n",
              "      <td>0.122</td>\n",
              "      <td>0.767</td>\n",
              "    </tr>\n",
              "    <tr>\n",
              "      <th>2</th>\n",
              "      <td>2001-01-04</td>\n",
              "      <td>0.481895</td>\n",
              "      <td>0.9026</td>\n",
              "      <td>0.105</td>\n",
              "      <td>0.094</td>\n",
              "      <td>0.801</td>\n",
              "    </tr>\n",
              "    <tr>\n",
              "      <th>3</th>\n",
              "      <td>2001-01-05</td>\n",
              "      <td>0.465542</td>\n",
              "      <td>0.8175</td>\n",
              "      <td>0.151</td>\n",
              "      <td>0.123</td>\n",
              "      <td>0.726</td>\n",
              "    </tr>\n",
              "    <tr>\n",
              "      <th>4</th>\n",
              "      <td>2001-01-06</td>\n",
              "      <td>0.464935</td>\n",
              "      <td>-0.5574</td>\n",
              "      <td>0.133</td>\n",
              "      <td>0.165</td>\n",
              "      <td>0.702</td>\n",
              "    </tr>\n",
              "    <tr>\n",
              "      <th>...</th>\n",
              "      <td>...</td>\n",
              "      <td>...</td>\n",
              "      <td>...</td>\n",
              "      <td>...</td>\n",
              "      <td>...</td>\n",
              "      <td>...</td>\n",
              "    </tr>\n",
              "    <tr>\n",
              "      <th>7257</th>\n",
              "      <td>2020-12-27</td>\n",
              "      <td>0.388231</td>\n",
              "      <td>-0.9997</td>\n",
              "      <td>0.075</td>\n",
              "      <td>0.128</td>\n",
              "      <td>0.797</td>\n",
              "    </tr>\n",
              "    <tr>\n",
              "      <th>7258</th>\n",
              "      <td>2020-12-28</td>\n",
              "      <td>0.413737</td>\n",
              "      <td>-0.9998</td>\n",
              "      <td>0.092</td>\n",
              "      <td>0.138</td>\n",
              "      <td>0.770</td>\n",
              "    </tr>\n",
              "    <tr>\n",
              "      <th>7259</th>\n",
              "      <td>2020-12-29</td>\n",
              "      <td>0.417092</td>\n",
              "      <td>-0.9998</td>\n",
              "      <td>0.094</td>\n",
              "      <td>0.144</td>\n",
              "      <td>0.762</td>\n",
              "    </tr>\n",
              "    <tr>\n",
              "      <th>7260</th>\n",
              "      <td>2020-12-30</td>\n",
              "      <td>0.443983</td>\n",
              "      <td>-0.9999</td>\n",
              "      <td>0.080</td>\n",
              "      <td>0.138</td>\n",
              "      <td>0.781</td>\n",
              "    </tr>\n",
              "    <tr>\n",
              "      <th>7261</th>\n",
              "      <td>2020-12-31</td>\n",
              "      <td>0.405685</td>\n",
              "      <td>-0.9998</td>\n",
              "      <td>0.097</td>\n",
              "      <td>0.137</td>\n",
              "      <td>0.766</td>\n",
              "    </tr>\n",
              "  </tbody>\n",
              "</table>\n",
              "<p>7262 rows × 6 columns</p>\n",
              "</div>"
            ],
            "text/plain": [
              "           Date  subjectivity  compound  positive  negative  neutral\n",
              "0    2001-01-02      0.293056   -0.9815     0.075     0.144    0.781\n",
              "1    2001-01-03      0.407692   -0.2640     0.111     0.122    0.767\n",
              "2    2001-01-04      0.481895    0.9026     0.105     0.094    0.801\n",
              "3    2001-01-05      0.465542    0.8175     0.151     0.123    0.726\n",
              "4    2001-01-06      0.464935   -0.5574     0.133     0.165    0.702\n",
              "...         ...           ...       ...       ...       ...      ...\n",
              "7257 2020-12-27      0.388231   -0.9997     0.075     0.128    0.797\n",
              "7258 2020-12-28      0.413737   -0.9998     0.092     0.138    0.770\n",
              "7259 2020-12-29      0.417092   -0.9998     0.094     0.144    0.762\n",
              "7260 2020-12-30      0.443983   -0.9999     0.080     0.138    0.781\n",
              "7261 2020-12-31      0.405685   -0.9998     0.097     0.137    0.766\n",
              "\n",
              "[7262 rows x 6 columns]"
            ]
          },
          "metadata": {
            "tags": []
          },
          "execution_count": 250
        }
      ]
    },
    {
      "cell_type": "markdown",
      "metadata": {
        "id": "VNoS-gZhvnNp"
      },
      "source": [
        "## Merging Two Datasets"
      ]
    },
    {
      "cell_type": "markdown",
      "metadata": {
        "id": "Lu2fF-K39hQH"
      },
      "source": [
        "#### size of bse stock prizes is 3297x7<br> size of headlines data is 7262× 2 <br> How to merge?<hr>"
      ]
    },
    {
      "cell_type": "markdown",
      "metadata": {
        "id": "1B2u9bK5qqJA"
      },
      "source": [
        "## We use date attribute to merge stockdta with news data"
      ]
    },
    {
      "cell_type": "code",
      "metadata": {
        "colab": {
          "base_uri": "https://localhost:8080/",
          "height": 402
        },
        "id": "PM9BhLufgTvj",
        "outputId": "56019098-38d8-4d9f-c429-15f20bc62647"
      },
      "source": [
        "# Merging all headlines of same data to one row\n",
        "data_merged = pd.merge(stock_data, newsdf, how='inner', on='Date')\n",
        "\n",
        "# Creating another feature considering mean of stock prices\n",
        "data_merged['Price'] = round((data_merged['High']+data_merged['Low']+data_merged['Close']+data_merged['Open'])/4,4)\n",
        "data_merged"
      ],
      "execution_count": null,
      "outputs": [
        {
          "output_type": "execute_result",
          "data": {
            "text/html": [
              "<div>\n",
              "<style scoped>\n",
              "    .dataframe tbody tr th:only-of-type {\n",
              "        vertical-align: middle;\n",
              "    }\n",
              "\n",
              "    .dataframe tbody tr th {\n",
              "        vertical-align: top;\n",
              "    }\n",
              "\n",
              "    .dataframe thead th {\n",
              "        text-align: right;\n",
              "    }\n",
              "</style>\n",
              "<table border=\"1\" class=\"dataframe\">\n",
              "  <thead>\n",
              "    <tr style=\"text-align: right;\">\n",
              "      <th></th>\n",
              "      <th>Date</th>\n",
              "      <th>Open</th>\n",
              "      <th>High</th>\n",
              "      <th>Low</th>\n",
              "      <th>Close</th>\n",
              "      <th>Adj Close</th>\n",
              "      <th>Volume</th>\n",
              "      <th>Fluctuations</th>\n",
              "      <th>Returns</th>\n",
              "      <th>subjectivity</th>\n",
              "      <th>compound</th>\n",
              "      <th>positive</th>\n",
              "      <th>negative</th>\n",
              "      <th>neutral</th>\n",
              "      <th>Price</th>\n",
              "    </tr>\n",
              "  </thead>\n",
              "  <tbody>\n",
              "    <tr>\n",
              "      <th>0</th>\n",
              "      <td>2008-01-01</td>\n",
              "      <td>8620.0996</td>\n",
              "      <td>8685.3203</td>\n",
              "      <td>8601.2402</td>\n",
              "      <td>8660.6299</td>\n",
              "      <td>8660.6299</td>\n",
              "      <td>325195300.0</td>\n",
              "      <td>1</td>\n",
              "      <td>0.0000</td>\n",
              "      <td>0.407413</td>\n",
              "      <td>-0.9988</td>\n",
              "      <td>0.093</td>\n",
              "      <td>0.162</td>\n",
              "      <td>0.746</td>\n",
              "      <td>8641.8225</td>\n",
              "    </tr>\n",
              "    <tr>\n",
              "      <th>1</th>\n",
              "      <td>2008-01-02</td>\n",
              "      <td>8703.6201</td>\n",
              "      <td>8787.3604</td>\n",
              "      <td>8595.0801</td>\n",
              "      <td>8765.7305</td>\n",
              "      <td>8765.7305</td>\n",
              "      <td>427995000.0</td>\n",
              "      <td>0</td>\n",
              "      <td>0.0121</td>\n",
              "      <td>0.440670</td>\n",
              "      <td>-0.9998</td>\n",
              "      <td>0.109</td>\n",
              "      <td>0.210</td>\n",
              "      <td>0.681</td>\n",
              "      <td>8712.9478</td>\n",
              "    </tr>\n",
              "    <tr>\n",
              "      <th>2</th>\n",
              "      <td>2008-01-03</td>\n",
              "      <td>8733.5596</td>\n",
              "      <td>8817.0898</td>\n",
              "      <td>8719.8496</td>\n",
              "      <td>8746.0400</td>\n",
              "      <td>8746.0400</td>\n",
              "      <td>344790300.0</td>\n",
              "      <td>1</td>\n",
              "      <td>-0.0022</td>\n",
              "      <td>0.478832</td>\n",
              "      <td>-0.9995</td>\n",
              "      <td>0.091</td>\n",
              "      <td>0.183</td>\n",
              "      <td>0.726</td>\n",
              "      <td>8754.1348</td>\n",
              "    </tr>\n",
              "    <tr>\n",
              "      <th>3</th>\n",
              "      <td>2008-01-04</td>\n",
              "      <td>8770.0996</td>\n",
              "      <td>8888.5996</td>\n",
              "      <td>8770.0996</td>\n",
              "      <td>8850.4805</td>\n",
              "      <td>8850.4805</td>\n",
              "      <td>381472400.0</td>\n",
              "      <td>0</td>\n",
              "      <td>0.0119</td>\n",
              "      <td>0.393586</td>\n",
              "      <td>-0.9991</td>\n",
              "      <td>0.098</td>\n",
              "      <td>0.159</td>\n",
              "      <td>0.743</td>\n",
              "      <td>8819.8198</td>\n",
              "    </tr>\n",
              "    <tr>\n",
              "      <th>4</th>\n",
              "      <td>2008-01-07</td>\n",
              "      <td>8817.2305</td>\n",
              "      <td>8910.3701</td>\n",
              "      <td>8764.8398</td>\n",
              "      <td>8882.2803</td>\n",
              "      <td>8882.2803</td>\n",
              "      <td>355712200.0</td>\n",
              "      <td>1</td>\n",
              "      <td>0.0036</td>\n",
              "      <td>0.371306</td>\n",
              "      <td>-0.9980</td>\n",
              "      <td>0.096</td>\n",
              "      <td>0.143</td>\n",
              "      <td>0.761</td>\n",
              "      <td>8843.6802</td>\n",
              "    </tr>\n",
              "    <tr>\n",
              "      <th>...</th>\n",
              "      <td>...</td>\n",
              "      <td>...</td>\n",
              "      <td>...</td>\n",
              "      <td>...</td>\n",
              "      <td>...</td>\n",
              "      <td>...</td>\n",
              "      <td>...</td>\n",
              "      <td>...</td>\n",
              "      <td>...</td>\n",
              "      <td>...</td>\n",
              "      <td>...</td>\n",
              "      <td>...</td>\n",
              "      <td>...</td>\n",
              "      <td>...</td>\n",
              "      <td>...</td>\n",
              "    </tr>\n",
              "    <tr>\n",
              "      <th>3204</th>\n",
              "      <td>2020-12-24</td>\n",
              "      <td>17947.3906</td>\n",
              "      <td>18020.1094</td>\n",
              "      <td>17869.5898</td>\n",
              "      <td>17992.0098</td>\n",
              "      <td>17992.0098</td>\n",
              "      <td>400.0</td>\n",
              "      <td>0</td>\n",
              "      <td>0.0091</td>\n",
              "      <td>0.394551</td>\n",
              "      <td>-0.9988</td>\n",
              "      <td>0.065</td>\n",
              "      <td>0.093</td>\n",
              "      <td>0.842</td>\n",
              "      <td>17957.2749</td>\n",
              "    </tr>\n",
              "    <tr>\n",
              "      <th>3205</th>\n",
              "      <td>2020-12-28</td>\n",
              "      <td>18079.1504</td>\n",
              "      <td>18178.5195</td>\n",
              "      <td>18078.4297</td>\n",
              "      <td>18164.8691</td>\n",
              "      <td>18164.8691</td>\n",
              "      <td>200.0</td>\n",
              "      <td>0</td>\n",
              "      <td>0.0096</td>\n",
              "      <td>0.413737</td>\n",
              "      <td>-0.9998</td>\n",
              "      <td>0.092</td>\n",
              "      <td>0.138</td>\n",
              "      <td>0.770</td>\n",
              "      <td>18125.2422</td>\n",
              "    </tr>\n",
              "    <tr>\n",
              "      <th>3206</th>\n",
              "      <td>2020-12-29</td>\n",
              "      <td>18232.9805</td>\n",
              "      <td>18282.6602</td>\n",
              "      <td>18119.9707</td>\n",
              "      <td>18218.9102</td>\n",
              "      <td>18218.9102</td>\n",
              "      <td>200.0</td>\n",
              "      <td>1</td>\n",
              "      <td>0.0030</td>\n",
              "      <td>0.417092</td>\n",
              "      <td>-0.9998</td>\n",
              "      <td>0.094</td>\n",
              "      <td>0.144</td>\n",
              "      <td>0.762</td>\n",
              "      <td>18213.6304</td>\n",
              "    </tr>\n",
              "    <tr>\n",
              "      <th>3207</th>\n",
              "      <td>2020-12-30</td>\n",
              "      <td>18284.5391</td>\n",
              "      <td>18298.8203</td>\n",
              "      <td>18135.2305</td>\n",
              "      <td>18284.3105</td>\n",
              "      <td>18284.3105</td>\n",
              "      <td>300.0</td>\n",
              "      <td>1</td>\n",
              "      <td>0.0036</td>\n",
              "      <td>0.443983</td>\n",
              "      <td>-0.9999</td>\n",
              "      <td>0.080</td>\n",
              "      <td>0.138</td>\n",
              "      <td>0.781</td>\n",
              "      <td>18250.7251</td>\n",
              "    </tr>\n",
              "    <tr>\n",
              "      <th>3208</th>\n",
              "      <td>2020-12-31</td>\n",
              "      <td>18296.0703</td>\n",
              "      <td>18343.9492</td>\n",
              "      <td>18248.8301</td>\n",
              "      <td>18300.0996</td>\n",
              "      <td>18300.0996</td>\n",
              "      <td>400.0</td>\n",
              "      <td>0</td>\n",
              "      <td>0.0009</td>\n",
              "      <td>0.405685</td>\n",
              "      <td>-0.9998</td>\n",
              "      <td>0.097</td>\n",
              "      <td>0.137</td>\n",
              "      <td>0.766</td>\n",
              "      <td>18297.2373</td>\n",
              "    </tr>\n",
              "  </tbody>\n",
              "</table>\n",
              "<p>3209 rows × 15 columns</p>\n",
              "</div>"
            ],
            "text/plain": [
              "           Date        Open        High  ...  negative  neutral       Price\n",
              "0    2008-01-01   8620.0996   8685.3203  ...     0.162    0.746   8641.8225\n",
              "1    2008-01-02   8703.6201   8787.3604  ...     0.210    0.681   8712.9478\n",
              "2    2008-01-03   8733.5596   8817.0898  ...     0.183    0.726   8754.1348\n",
              "3    2008-01-04   8770.0996   8888.5996  ...     0.159    0.743   8819.8198\n",
              "4    2008-01-07   8817.2305   8910.3701  ...     0.143    0.761   8843.6802\n",
              "...         ...         ...         ...  ...       ...      ...         ...\n",
              "3204 2020-12-24  17947.3906  18020.1094  ...     0.093    0.842  17957.2749\n",
              "3205 2020-12-28  18079.1504  18178.5195  ...     0.138    0.770  18125.2422\n",
              "3206 2020-12-29  18232.9805  18282.6602  ...     0.144    0.762  18213.6304\n",
              "3207 2020-12-30  18284.5391  18298.8203  ...     0.138    0.781  18250.7251\n",
              "3208 2020-12-31  18296.0703  18343.9492  ...     0.137    0.766  18297.2373\n",
              "\n",
              "[3209 rows x 15 columns]"
            ]
          },
          "metadata": {
            "tags": []
          },
          "execution_count": 276
        }
      ]
    },
    {
      "cell_type": "code",
      "metadata": {
        "id": "nN_ryqGsdt1w"
      },
      "source": [
        "X = data_merged.drop(labels = ['Price','Date'],axis =1)\n",
        "y = data_merged['Price']\n",
        "from sklearn.model_selection import train_test_split\n",
        "Xtrain,Xtest,ytrain,ytest = train_test_split(X,y, test_size = 0.15,shuffle= False)"
      ],
      "execution_count": null,
      "outputs": []
    },
    {
      "cell_type": "code",
      "metadata": {
        "colab": {
          "base_uri": "https://localhost:8080/"
        },
        "id": "owLIeZdcsk6q",
        "outputId": "99dbdb98-76ac-4492-feec-278c17f179c8"
      },
      "source": [
        "# TO check splitting \n",
        "print('The size of Xtrain is ',Xtrain.shape,'\\nThe size of Xtest is', Xtest.shape,'\\nThe size of ytrain is', ytrain.shape,'\\nThe size of ytest is', ytest.shape)"
      ],
      "execution_count": null,
      "outputs": [
        {
          "output_type": "stream",
          "text": [
            "The size of Xtrain is  (2727, 13) \n",
            "The size of Xtest is (482, 13) \n",
            "The size of ytrain is (2727,) \n",
            "The size of ytest is (482,)\n"
          ],
          "name": "stdout"
        }
      ]
    },
    {
      "cell_type": "markdown",
      "metadata": {
        "id": "Oy1Uyp1GReRp"
      },
      "source": [
        "## Hybrid Model Implementation"
      ]
    },
    {
      "cell_type": "code",
      "metadata": {
        "id": "YpCrBaAPQpQg"
      },
      "source": [
        "from sklearn.ensemble import RandomForestRegressor\n",
        "rf = RandomForestRegressor()\n",
        "rf.fit(Xtrain, ytrain)\n",
        "ypredRf=rf.predict(Xtest)"
      ],
      "execution_count": null,
      "outputs": []
    },
    {
      "cell_type": "code",
      "metadata": {
        "id": "kRPq8BXpnG_Y"
      },
      "source": [
        "from sklearn.ensemble import AdaBoostRegressor\n",
        "adb = AdaBoostRegressor()\n",
        "adb.fit(Xtrain, ytrain)\n",
        "ypredAdb = adb.predict(Xtest)"
      ],
      "execution_count": null,
      "outputs": []
    },
    {
      "cell_type": "code",
      "metadata": {
        "colab": {
          "base_uri": "https://localhost:8080/",
          "height": 343
        },
        "id": "6Pj-dHhColP9",
        "outputId": "8c7da938-2cdf-4268-8637-f49565d4287b"
      },
      "source": [
        "df = pd.DataFrame({'yactual':ytest,'ypred-Randomforest': ypredRf ,'ypred-Adaboost':ypredAdb})\n",
        "df[0:10]"
      ],
      "execution_count": null,
      "outputs": [
        {
          "output_type": "execute_result",
          "data": {
            "text/html": [
              "<div>\n",
              "<style scoped>\n",
              "    .dataframe tbody tr th:only-of-type {\n",
              "        vertical-align: middle;\n",
              "    }\n",
              "\n",
              "    .dataframe tbody tr th {\n",
              "        vertical-align: top;\n",
              "    }\n",
              "\n",
              "    .dataframe thead th {\n",
              "        text-align: right;\n",
              "    }\n",
              "</style>\n",
              "<table border=\"1\" class=\"dataframe\">\n",
              "  <thead>\n",
              "    <tr style=\"text-align: right;\">\n",
              "      <th></th>\n",
              "      <th>yactual</th>\n",
              "      <th>ypred-Randomforest</th>\n",
              "      <th>ypred-Adaboost</th>\n",
              "    </tr>\n",
              "  </thead>\n",
              "  <tbody>\n",
              "    <tr>\n",
              "      <th>2727</th>\n",
              "      <td>14527.3999</td>\n",
              "      <td>14515.126118</td>\n",
              "      <td>14717.775714</td>\n",
              "    </tr>\n",
              "    <tr>\n",
              "      <th>2728</th>\n",
              "      <td>14509.5801</td>\n",
              "      <td>14498.848349</td>\n",
              "      <td>14717.775714</td>\n",
              "    </tr>\n",
              "    <tr>\n",
              "      <th>2729</th>\n",
              "      <td>14518.7151</td>\n",
              "      <td>14526.378707</td>\n",
              "      <td>14717.775714</td>\n",
              "    </tr>\n",
              "    <tr>\n",
              "      <th>2730</th>\n",
              "      <td>14478.0127</td>\n",
              "      <td>14476.689757</td>\n",
              "      <td>14717.775714</td>\n",
              "    </tr>\n",
              "    <tr>\n",
              "      <th>2731</th>\n",
              "      <td>14434.2327</td>\n",
              "      <td>14446.845645</td>\n",
              "      <td>14717.775714</td>\n",
              "    </tr>\n",
              "    <tr>\n",
              "      <th>2732</th>\n",
              "      <td>14381.4224</td>\n",
              "      <td>14381.240712</td>\n",
              "      <td>14717.775714</td>\n",
              "    </tr>\n",
              "    <tr>\n",
              "      <th>2733</th>\n",
              "      <td>14345.8450</td>\n",
              "      <td>14346.955208</td>\n",
              "      <td>14717.775714</td>\n",
              "    </tr>\n",
              "    <tr>\n",
              "      <th>2734</th>\n",
              "      <td>14172.2952</td>\n",
              "      <td>14150.992823</td>\n",
              "      <td>14143.599181</td>\n",
              "    </tr>\n",
              "    <tr>\n",
              "      <th>2735</th>\n",
              "      <td>14071.9175</td>\n",
              "      <td>14072.424089</td>\n",
              "      <td>13986.189977</td>\n",
              "    </tr>\n",
              "    <tr>\n",
              "      <th>2736</th>\n",
              "      <td>14105.1228</td>\n",
              "      <td>14102.441644</td>\n",
              "      <td>14032.454733</td>\n",
              "    </tr>\n",
              "  </tbody>\n",
              "</table>\n",
              "</div>"
            ],
            "text/plain": [
              "         yactual  ypred-Randomforest  ypred-Adaboost\n",
              "2727  14527.3999        14515.126118    14717.775714\n",
              "2728  14509.5801        14498.848349    14717.775714\n",
              "2729  14518.7151        14526.378707    14717.775714\n",
              "2730  14478.0127        14476.689757    14717.775714\n",
              "2731  14434.2327        14446.845645    14717.775714\n",
              "2732  14381.4224        14381.240712    14717.775714\n",
              "2733  14345.8450        14346.955208    14717.775714\n",
              "2734  14172.2952        14150.992823    14143.599181\n",
              "2735  14071.9175        14072.424089    13986.189977\n",
              "2736  14105.1228        14102.441644    14032.454733"
            ]
          },
          "metadata": {
            "tags": []
          },
          "execution_count": 313
        }
      ]
    },
    {
      "cell_type": "code",
      "metadata": {
        "colab": {
          "base_uri": "https://localhost:8080/"
        },
        "id": "xjLu6xcQn_kv",
        "outputId": "28fe59cf-9307-4e6d-b5d4-9fed519425d1"
      },
      "source": [
        "from sklearn.metrics import mean_absolute_error\n",
        "abs_errAdb = mean_absolute_error(ypredAdb,ytest)\n",
        "abs_err_Rf = mean_absolute_error(ypredRf,ytest)\n",
        "print('Mean Absolute error of Adaboost',round(abs_errAdb,4),'\\nMean Absolute error of Random-Forest',round(abs_err_Rf,4))"
      ],
      "execution_count": null,
      "outputs": [
        {
          "output_type": "stream",
          "text": [
            "Mean Absolute error of Adaboost 460.0933 \n",
            "Mean Absolute error of Random-Forest 132.6532\n"
          ],
          "name": "stdout"
        }
      ]
    },
    {
      "cell_type": "markdown",
      "metadata": {
        "id": "QO0403DZrQi3"
      },
      "source": [
        "## Let us visualize those results"
      ]
    },
    {
      "cell_type": "code",
      "metadata": {
        "colab": {
          "base_uri": "https://localhost:8080/",
          "height": 485
        },
        "id": "veZYr47yrN54",
        "outputId": "a97b8347-47eb-4667-9bc9-aef690932745"
      },
      "source": [
        "sns.set_theme(style=\"whitegrid\")\n",
        "plt.figure(figsize=(24,8))\n",
        "sns.lineplot(x = range(2727,3209), y= ytest,label = 'actual price', color='red',linewidth=8.5)\n",
        "sns.lineplot(x=range(2727,3209),y=ypredAdb,label=\"Adb predicted\",color = 'green',linewidth=4)\n",
        "sns.lineplot(x=range(2727,3209),y=ypredRf,label='RF predicted',color = 'cyan',linewidth=4)\n",
        "plt.legend(loc= 'lower right')\n",
        "plt.show()"
      ],
      "execution_count": null,
      "outputs": [
        {
          "output_type": "display_data",
          "data": {
            "image/png": "[encoded data removed]",
            "text/plain": [
              "<Figure size 1728x576 with 1 Axes>"
            ]
          },
          "metadata": {
            "tags": []
          }
        }
      ]
    },
    {
      "cell_type": "markdown",
      "metadata": {
        "id": "oMukvwlTFScH"
      },
      "source": [
        "## **Conclusion: <br> Random Forest regression have best performance in predicting the stock price**"
      ]
    }
  ]
}